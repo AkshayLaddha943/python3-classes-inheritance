{
 "cells": [
  {
   "cell_type": "code",
   "execution_count": null,
   "id": "9abdb783",
   "metadata": {},
   "outputs": [],
   "source": [
    "#Nested Data and Nested Iteration"
   ]
  },
  {
   "cell_type": "code",
   "execution_count": null,
   "id": "bac408fb",
   "metadata": {},
   "outputs": [],
   "source": [
    "#0.1 Lists with Complex items\n",
    "\n",
    "nested1 = [['a', 'b', 'c'],['d', 'e'],['f', 'g', 'h']]\n",
    "print(nested1[0])\n",
    "print(len(nested1))\n",
    "nested1.append(['i'])\n",
    "print(\"-------\")\n",
    "for L in nested1:\n",
    "    print(L)"
   ]
  },
  {
   "cell_type": "code",
   "execution_count": null,
   "id": "66b1d704",
   "metadata": {},
   "outputs": [],
   "source": []
  },
  {
   "cell_type": "code",
   "execution_count": null,
   "id": "6c1f441a",
   "metadata": {},
   "outputs": [],
   "source": [
    "#0.2 Nested Dictionaries\n",
    "\n",
    "info = {'personal_data':\n",
    "         {'name': 'Lauren',\n",
    "          'age': 20,\n",
    "          'major': 'Information Science',\n",
    "          'physical_features':\n",
    "             {'color': {'eye': 'blue',\n",
    "                        'hair': 'brown'},\n",
    "              'height': \"5'8\"}\n",
    "         },\n",
    "       'other':\n",
    "         {'favorite_colors': ['purple', 'green', 'blue'],\n",
    "          'interested_in': ['social media', 'intellectual property', 'copyright', 'music', 'books']\n",
    "         }\n",
    "      }\n",
    "\n",
    "\n",
    "for key, value in info.items():\n",
    "     for key, value in value.items():\n",
    "            if type(value) is dict:\n",
    "                print(value)"
   ]
  },
  {
   "cell_type": "code",
   "execution_count": null,
   "id": "f708ec7b",
   "metadata": {},
   "outputs": [],
   "source": []
  },
  {
   "cell_type": "code",
   "execution_count": null,
   "id": "23770ebd",
   "metadata": {},
   "outputs": [],
   "source": [
    "#0.3 Processing JSON results\n",
    "\n",
    "#python module json provides support for processing JSON results.\n",
    "#two functions in this module, loads and dumps will be used. loads() takes a string as input and produces a python object (a dictionary or a list) as output\n",
    "\n",
    "import json\n",
    "a_string = '\\n\\n\\n{\\n \"resultCount\":25,\\n \"results\": [\\n{\"wrapperType\":\"track\", \"kind\":\"podcast\", \"collectionId\":10892}]}'\n",
    "print(a_string)\n",
    "d = json.loads(a_string)\n",
    "print(\"------\")\n",
    "print(type(d))\n",
    "print(d.keys())\n",
    "print(d['resultCount']\n",
    "      \n",
    "\n",
    "# The dumps function takes a python object, typically a dictionary or a list, and returns a string, in JSON format. \n",
    "#It has two useful parameters - sort_keys and indent \n",
    "#When the value True is passed for the sort_keys parameter, the keys of dictionaries are output in alphabetic order with their values\n",
    "#The indent parameter expects an integer. When provided, dumps generates a string suitable for displaying to people, with newlines and indentation for nested lists or dictionaries\n",
    "      \n",
    "import json\n",
    "def pretty(obj):\n",
    "    return json.dumps(obj, sort_keys=True, indent=2)\n",
    "\n",
    "d = {'key1': {'c': True, 'a': 90, '5': 50}, 'key2':{'b': 3, 'c': \"yes\"}}\n",
    "\n",
    "print(d)\n",
    "print(pretty(d))"
   ]
  },
  {
   "cell_type": "code",
   "execution_count": null,
   "id": "9d8e1d44",
   "metadata": {},
   "outputs": [],
   "source": []
  },
  {
   "cell_type": "code",
   "execution_count": null,
   "id": "b58a3404",
   "metadata": {},
   "outputs": [],
   "source": [
    "#0.4 Nested Iterations\n",
    "\n",
    "nested1 = [['a', 'b', 'c'],['d', 'e'],['f', 'g', 'h']]\n",
    "for x in nested1:\n",
    "    print(\"level1: \")\n",
    "    for y in x:\n",
    "        print(\"     level2: \" + y)\n",
    "        \n",
    "        \n",
    "\n",
    "info = [['Tina', 'Turner', 1939, 'singer'], ['Matt', 'Damon', 1970, 'actor'], ['Kristen', 'Wiig', 1973, 'comedian'], ['Michael', 'Phelps', 1985, 'swimmer'], ['Barack', 'Obama', 1961, 'president']]\n",
    "#code to create a new list that contains every person’s last name, and save that list as last_names\n",
    "last_names = []\n",
    "for i in info:\n",
    "    for j in range(len(i)):\n",
    "        if i[1] not in last_names:\n",
    "            last_names.append(i[1])\n",
    "print (last_names)\n",
    "\n",
    "\n",
    "\n",
    "L = [['apples', 'bananas', 'oranges', 'blueberries', 'lemons'], ['carrots', 'peas', 'cucumbers', 'green beans'], ['root beer', 'smoothies', 'cranberry juice']]\n",
    "#Use nested iteration to save every string containing “b” into a new list named b_strings\n",
    "b_strings = []\n",
    "for i in L:\n",
    "    for j in i:\n",
    "        if 'b' in j:\n",
    "            b_strings.append(j)\n",
    "print(b_strings)"
   ]
  },
  {
   "cell_type": "code",
   "execution_count": null,
   "id": "e3f197c5",
   "metadata": {},
   "outputs": [],
   "source": []
  },
  {
   "cell_type": "code",
   "execution_count": null,
   "id": "e6eb009a",
   "metadata": {},
   "outputs": [],
   "source": [
    "#0.5 Structuring Nested Data\n",
    "\n",
    "nested1 = [1, 2, ['a', 'b', 'c'],['d', 'e'],['f', 'g', 'h']]\n",
    "for x in nested1:\n",
    "    print(\"level1: \")\n",
    "    if type(x) is list:\n",
    "        for y in x:\n",
    "            print(\"     level2: {}\".format(y))\n",
    "    else:\n",
    "        print(x)\n"
   ]
  },
  {
   "cell_type": "code",
   "execution_count": null,
   "id": "4b4901bd",
   "metadata": {},
   "outputs": [],
   "source": []
  },
  {
   "cell_type": "code",
   "execution_count": null,
   "id": "b1bba87a",
   "metadata": {},
   "outputs": [],
   "source": [
    "#0.6 to make a copy of a nested list that has more than two levels, use deepcopy package from copy module\n",
    "\n",
    "import copy\n",
    "original = [['canines', ['dogs', 'puppies']], ['felines', ['cats', 'kittens']]]\n",
    "shallow_copy_version = original[:]\n",
    "deeply_copied_version = copy.deepcopy(original)\n",
    "original.append(\"Hi there\")\n",
    "original[0].append([\"marsupials\"])\n",
    "print(\"-------- Original -----------\")\n",
    "print(original)\n",
    "print(\"-------- deep copy -----------\")\n",
    "print(deeply_copied_version)\n",
    "print(\"-------- shallow copy -----------\")\n",
    "print(shallow_copy_version)"
   ]
  }
 ],
 "metadata": {
  "kernelspec": {
   "display_name": "Python 3 (ipykernel)",
   "language": "python",
   "name": "python3"
  },
  "language_info": {
   "codemirror_mode": {
    "name": "ipython",
    "version": 3
   },
   "file_extension": ".py",
   "mimetype": "text/x-python",
   "name": "python",
   "nbconvert_exporter": "python",
   "pygments_lexer": "ipython3",
   "version": "3.10.6"
  }
 },
 "nbformat": 4,
 "nbformat_minor": 5
}
